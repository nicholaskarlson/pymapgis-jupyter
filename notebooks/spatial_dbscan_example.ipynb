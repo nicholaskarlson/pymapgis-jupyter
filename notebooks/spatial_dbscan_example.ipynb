{
 "cells": [
  {
   "cell_type": "markdown",
   "metadata": {},
   "source": [
    "# Spatial DBSCAN Analysis with PyMapGIS\n",
    "\n",
    "This notebook demonstrates spatial clustering using PyMapGIS's SpatialDBSCAN implementation on simulated incident data for Little Rock, Arkansas."
   ]
  },
  {
   "cell_type": "code",
   "execution_count": null,
   "metadata": {},
   "outputs": [],
   "source": [
    "# ==============================================================================\n",
    "# CELL 1 – Install required libraries\n",
    "# ==============================================================================\n",
    "# PyMapGIS pulls in GeoPandas + scikit-learn; folium/mapclassify handle mapping.\n",
    "# ==============================================================================\n",
    "!pip install geopandas pymapgis folium mapclassify -q\n",
    "\n",
    "print(\"✅ Required libraries have been installed.\")\n",
    "print(\"\\n🔴 IMPORTANT: PLEASE RESTART THE SESSION NOW! 🔴\")\n",
    "print(\"Runtime ➜ Restart session  (Ctrl+M .)\")"
   ]
  },
  {
   "cell_type": "code",
   "execution_count": null,
   "metadata": {},
   "outputs": [],
   "source": [
    "# ==============================================================================\n",
    "# CELL 2 – Spatial DBSCAN on simulated Little Rock incidents\n",
    "# ==============================================================================\n",
    "import pymapgis as pmg\n",
    "from pymapgis.ml import SpatialDBSCAN\n",
    "import geopandas as gpd\n",
    "from shapely.geometry import Point\n",
    "import pandas as pd\n",
    "import numpy as np\n",
    "from IPython.display import display\n",
    "\n",
    "print(\"✅ Supporting libraries imported.\")"
   ]
  },
  {
   "cell_type": "code",
   "execution_count": null,
   "metadata": {},
   "outputs": [],
   "source": [
    "# ------------------------------------------------------------------ #\n",
    "# 1. Simulate incidents: two Little Rock hotspots + statewide noise  #\n",
    "# ------------------------------------------------------------------ #\n",
    "np.random.seed(42)\n",
    "\n",
    "# Hotspot 1 – Downtown (River Market area)\n",
    "downtown = [\n",
    "    Point(np.random.normal(-92.2896, 0.002),   # lon  (≈200 m spread)\n",
    "          np.random.normal(34.7465, 0.002))    # lat\n",
    "    for _ in range(50)\n",
    "]\n",
    "\n",
    "# Hotspot 2 – West Little Rock (around Chenal Pkwy)\n",
    "west_lr = [\n",
    "    Point(np.random.normal(-92.4300, 0.002),\n",
    "          np.random.normal(34.7500, 0.002))\n",
    "    for _ in range(40)\n",
    "]\n",
    "\n",
    "# Background noise across Arkansas bounding box\n",
    "noise = [\n",
    "    Point(np.random.uniform(-94.62, -89.64),   # AR longitudes\n",
    "          np.random.uniform(33.0, 36.5))       # AR latitudes\n",
    "    for _ in range(40)\n",
    "]\n",
    "\n",
    "incidents_gdf = gpd.GeoDataFrame(\n",
    "    geometry=downtown + west_lr + noise,\n",
    "    crs=\"EPSG:4326\"\n",
    ")\n",
    "incidents_gdf[\"report_id\"] = range(len(incidents_gdf))\n",
    "\n",
    "print(f\"✅ Generated {len(incidents_gdf)} simulated incidents.\")"
   ]
  },
  {
   "cell_type": "code",
   "execution_count": null,
   "metadata": {},
   "outputs": [],
   "source": [
    "# ------------------------------------------------------------------ #\n",
    "# 2. (Optional but cleaner) Re-project to metres                     #\n",
    "# ------------------------------------------------------------------ #\n",
    "# Arkansas South NAD83 / UTM 15N\n",
    "incidents_m = incidents_gdf.to_crs(epsg=26952)\n",
    "\n",
    "print(\"✅ Data reprojected to UTM coordinates (metres).\")"
   ]
  },
  {
   "cell_type": "code",
   "execution_count": null,
   "metadata": {},
   "outputs": [],
   "source": [
    "# ------------------------------------------------------------------ #\n",
    "# 3. Spatial DBSCAN (eps in metres now)                              #\n",
    "# ------------------------------------------------------------------ #\n",
    "print(\"\\n🚀 Running Spatial DBSCAN…\")\n",
    "X_dummy = pd.DataFrame(index=incidents_m.index)  # geometry-only model\n",
    "\n",
    "db = SpatialDBSCAN(eps=250,  # 250 m neighbourhood radius\n",
    "                   min_samples=5,\n",
    "                   spatial_weight=1.0)\n",
    "db.fit(X_dummy, geometry=incidents_m.geometry)\n",
    "\n",
    "incidents_gdf[\"cluster_id\"] = db.labels_  # copy labels back to WGS-84\n",
    "\n",
    "print(\"   ✅ DBSCAN complete.\\n\")\n",
    "print(\"--- Cluster counts ---\")\n",
    "print(incidents_gdf[\"cluster_id\"].value_counts())\n",
    "print(\"----------------------\")"
   ]
  },
  {
   "cell_type": "code",
   "execution_count": null,
   "metadata": {},
   "outputs": [],
   "source": [
    "# ------------------------------------------------------------------ #\n",
    "# 4. Leaflet map                                                     #\n",
    "# ------------------------------------------------------------------ #\n",
    "print(\"\\n🎨 Building interactive map…\")\n",
    "m = incidents_gdf.explore(\n",
    "    column=\"cluster_id\",\n",
    "    cmap=\"viridis\",\n",
    "    categorical=True,\n",
    "    tooltip=[\"report_id\", \"cluster_id\"],\n",
    "    style_kwds={\"radius\": 6},\n",
    "    tiles=\"CartoDB positron\"\n",
    ")\n",
    "\n",
    "display(m)\n",
    "print(\"\\n🎉 Map ready!  (Cluster −1 = noise)\")"
   ]
  }
 ],
 "metadata": {
  "kernelspec": {
   "display_name": "Python 3",
   "language": "python",
   "name": "python3"
  },
  "language_info": {
   "codemirror_mode": {
    "name": "ipython",
    "version": 3
   },
   "file_extension": ".py",
   "mimetype": "text/x-python",
   "name": "python",
   "nbconvert_exporter": "python",
   "pygments_lexer": "ipython3",
   "version": "3.9.7"
  }
 },
 "nbformat": 4,
 "nbformat_minor": 4
}
