{
 "cells": [
  {
   "cell_type": "markdown",
   "metadata": {},
   "source": [
    "# Getting Started with PyMapGIS\n",
    "\n",
    "Welcome to the PyMapGIS Jupyter environment! This notebook will help you get started with spatial data analysis using PyMapGIS."
   ]
  },
  {
   "cell_type": "markdown",
   "metadata": {},
   "source": [
    "## 1. Import Libraries\n",
    "\n",
    "Let's start by importing the essential libraries for spatial analysis:"
   ]
  },
  {
   "cell_type": "code",
   "execution_count": null,
   "metadata": {},
   "outputs": [],
   "source": [
    "import pymapgis as pmg\n",
    "import geopandas as gpd\n",
    "import pandas as pd\n",
    "import numpy as np\n",
    "import folium\n",
    "from shapely.geometry import Point, Polygon\n",
    "import matplotlib.pyplot as plt\n",
    "\n",
    "print(\"✅ Libraries imported successfully!\")\n",
    "print(f\"PyMapGIS version: {pmg.__version__}\")"
   ]
  },
  {
   "cell_type": "markdown",
   "metadata": {},
   "source": [
    "## 2. Create Sample Spatial Data\n",
    "\n",
    "Let's create some sample spatial data to work with:"
   ]
  },
  {
   "cell_type": "code",
   "execution_count": null,
   "metadata": {},
   "outputs": [],
   "source": [
    "# Create sample points around Little Rock, Arkansas\n",
    "np.random.seed(42)\n",
    "\n",
    "# Generate random points\n",
    "n_points = 100\n",
    "lons = np.random.normal(-92.2896, 0.05, n_points)  # Around Little Rock longitude\n",
    "lats = np.random.normal(34.7465, 0.05, n_points)   # Around Little Rock latitude\n",
    "\n",
    "# Create GeoDataFrame\n",
    "geometry = [Point(lon, lat) for lon, lat in zip(lons, lats)]\n",
    "gdf = gpd.GeoDataFrame({\n",
    "    'id': range(n_points),\n",
    "    'value': np.random.randint(1, 100, n_points),\n",
    "    'category': np.random.choice(['A', 'B', 'C'], n_points)\n",
    "}, geometry=geometry, crs='EPSG:4326')\n",
    "\n",
    "print(f\"Created GeoDataFrame with {len(gdf)} points\")\n",
    "print(\"\\nFirst 5 rows:\")\n",
    "gdf.head()"
   ]
  },
  {
   "cell_type": "markdown",
   "metadata": {},
   "source": [
    "## 3. Basic Spatial Operations\n",
    "\n",
    "Let's perform some basic spatial operations:"
   ]
  },
  {
   "cell_type": "code",
   "execution_count": null,
   "metadata": {},
   "outputs": [],
   "source": [
    "# Calculate the bounding box\n",
    "bounds = gdf.total_bounds\n",
    "print(f\"Bounding box: {bounds}\")\n",
    "\n",
    "# Calculate the centroid\n",
    "centroid = gdf.geometry.centroid.iloc[0]\n",
    "print(f\"Centroid: {centroid}\")\n",
    "\n",
    "# Project to UTM for distance calculations\n",
    "gdf_utm = gdf.to_crs('EPSG:26915')  # UTM Zone 15N\n",
    "print(f\"\\nProjected to UTM. Sample coordinates:\")\n",
    "print(gdf_utm.geometry.iloc[0])"
   ]
  },
  {
   "cell_type": "markdown",
   "metadata": {},
   "source": [
    "## 4. Create an Interactive Map\n",
    "\n",
    "Let's visualize our data on an interactive map:"
   ]
  },
  {
   "cell_type": "code",
   "execution_count": null,
   "metadata": {},
   "outputs": [],
   "source": [
    "# Create an interactive map\n",
    "m = gdf.explore(\n",
    "    column='category',\n",
    "    cmap='viridis',\n",
    "    tooltip=['id', 'value', 'category'],\n",
    "    popup=['id', 'value', 'category'],\n",
    "    style_kwds={'radius': 5},\n",
    "    tiles='CartoDB positron'\n",
    ")\n",
    "\n",
    "# Display the map\n",
    "m"
   ]
  },
  {
   "cell_type": "markdown",
   "metadata": {},
   "source": [
    "## 5. PyMapGIS Vector Operations\n",
    "\n",
    "Now let's use some PyMapGIS-specific functionality:"
   ]
  },
  {
   "cell_type": "code",
   "execution_count": null,
   "metadata": {},
   "outputs": [],
   "source": [
    "# Use PyMapGIS vector operations\n",
    "from pymapgis.vector import buffer_points, calculate_distances\n",
    "\n",
    "# Create buffers around points\n",
    "try:\n",
    "    buffered = buffer_points(gdf_utm, distance=1000)  # 1km buffer\n",
    "    print(f\"Created buffers for {len(buffered)} points\")\n",
    "    \n",
    "    # Convert back to WGS84 for mapping\n",
    "    buffered_wgs84 = buffered.to_crs('EPSG:4326')\n",
    "    \n",
    "    # Create map with buffers\n",
    "    m_buffer = buffered_wgs84.explore(\n",
    "        color='red',\n",
    "        alpha=0.3,\n",
    "        tiles='OpenStreetMap'\n",
    "    )\n",
    "    \n",
    "    # Add original points\n",
    "    m_buffer = gdf.explore(\n",
    "        m=m_buffer,\n",
    "        color='blue',\n",
    "        marker_kwds={'radius': 3}\n",
    "    )\n",
    "    \n",
    "    m_buffer\n",
    "    \n",
    "except Exception as e:\n",
    "    print(f\"Buffer operation not available: {e}\")\n",
    "    print(\"This is normal - some PyMapGIS functions may not be available in this demo\")"
   ]
  },
  {
   "cell_type": "markdown",
   "metadata": {},
   "source": [
    "## 6. Basic Statistics\n",
    "\n",
    "Let's calculate some basic spatial statistics:"
   ]
  },
  {
   "cell_type": "code",
   "execution_count": null,
   "metadata": {},
   "outputs": [],
   "source": [
    "# Basic statistics by category\n",
    "stats = gdf.groupby('category')['value'].agg(['count', 'mean', 'std'])\n",
    "print(\"Statistics by category:\")\n",
    "print(stats)\n",
    "\n",
    "# Plot histogram\n",
    "plt.figure(figsize=(10, 6))\n",
    "plt.subplot(1, 2, 1)\n",
    "gdf['value'].hist(bins=20, alpha=0.7)\n",
    "plt.title('Distribution of Values')\n",
    "plt.xlabel('Value')\n",
    "plt.ylabel('Frequency')\n",
    "\n",
    "plt.subplot(1, 2, 2)\n",
    "gdf['category'].value_counts().plot(kind='bar')\n",
    "plt.title('Count by Category')\n",
    "plt.xlabel('Category')\n",
    "plt.ylabel('Count')\n",
    "\n",
    "plt.tight_layout()\n",
    "plt.show()"
   ]
  },
  {
   "cell_type": "markdown",
   "metadata": {},
   "source": [
    "## 7. Next Steps\n",
    "\n",
    "Now that you've got the basics down, try exploring:\n",
    "\n",
    "1. **Spatial DBSCAN Example** - Check out the `spatial_dbscan_example.ipynb` notebook\n",
    "2. **Real Data** - Load your own spatial datasets\n",
    "3. **PyMapGIS ML** - Explore machine learning capabilities\n",
    "4. **Advanced Visualization** - Create more complex maps and plots\n",
    "\n",
    "### Useful PyMapGIS Modules:\n",
    "\n",
    "- `pymapgis.ml` - Machine learning algorithms\n",
    "- `pymapgis.vector` - Vector operations\n",
    "- `pymapgis.raster` - Raster processing\n",
    "- `pymapgis.viz` - Advanced visualization\n",
    "- `pymapgis.io` - Data input/output\n",
    "\n",
    "Happy mapping! 🗺️"
   ]
  }
 ],
 "metadata": {
  "kernelspec": {
   "display_name": "Python 3",
   "language": "python",
   "name": "python3"
  },
  "language_info": {
   "codemirror_mode": {
    "name": "ipython",
    "version": 3
   },
   "file_extension": ".py",
   "mimetype": "text/x-python",
   "name": "python",
   "nbconvert_exporter": "python",
   "pygments_lexer": "ipython3",
   "version": "3.9.7"
  }
 },
 "nbformat": 4,
 "nbformat_minor": 4
}
